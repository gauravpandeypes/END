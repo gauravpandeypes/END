{
  "nbformat": 4,
  "nbformat_minor": 0,
  "metadata": {
    "colab": {
      "name": "Session 3.ipynb",
      "provenance": []
    },
    "kernelspec": {
      "name": "python3",
      "display_name": "Python 3"
    }
  },
  "cells": [
    {
      "cell_type": "markdown",
      "metadata": {
        "id": "M4oOmMriHrf7"
      },
      "source": [
        "# Assignment"
      ]
    },
    {
      "cell_type": "markdown",
      "metadata": {
        "id": "oSdtD2ZVHwMw"
      },
      "source": [
        "## 1) Write a function using only list filter lambda that can tell whether a number is a Fibonacci number or not. You can use a pre-calculated list/dict to store fab numbers till 10000"
      ]
    },
    {
      "cell_type": "code",
      "metadata": {
        "id": "5pMdc_5DIopj"
      },
      "source": [
        "import sys\n",
        "sys.setrecursionlimit(15000)"
      ],
      "execution_count": 4,
      "outputs": []
    },
    {
      "cell_type": "code",
      "metadata": {
        "id": "BVRVsPi1F-Xg",
        "outputId": "3c1d02b1-2ddd-4802-c12b-45c1da67f8e0",
        "colab": {
          "base_uri": "https://localhost:8080/"
        }
      },
      "source": [
        "def fib(n):\n",
        "    if n == 0:\n",
        "        return [0]\n",
        "    elif n == 1:\n",
        "        return [0, 1]\n",
        "    else:\n",
        "        lst = fib(n-1)\n",
        "        lst.append(lst[-1] + lst[-2])\n",
        "        return lst\n",
        "checkList = fib(10000)\n",
        "\n",
        "def checkFib(n):\n",
        "  print('True') if (lambda x : x in checkList) else print('False')\n",
        "\n",
        "checkFib(5)"
      ],
      "execution_count": 22,
      "outputs": [
        {
          "output_type": "stream",
          "text": [
            "True\n"
          ],
          "name": "stdout"
        }
      ]
    },
    {
      "cell_type": "markdown",
      "metadata": {
        "id": "dWZoLQLWLPWU"
      },
      "source": [
        "## 2) Using list comprehension (and zip/ lambda/etc if required) write five different expressions that:"
      ]
    },
    {
      "cell_type": "markdown",
      "metadata": {
        "id": "jojNcnNbLUAH"
      },
      "source": [
        "a) Add 2 iterables a and b such that a is even and b is odd"
      ]
    },
    {
      "cell_type": "code",
      "metadata": {
        "id": "Owq_nOSLISAM",
        "outputId": "195e8def-dfe1-4048-d7a3-79561964554e",
        "colab": {
          "base_uri": "https://localhost:8080/"
        }
      },
      "source": [
        "even = [x for x in range(10, 20) if x%2==0]\n",
        "odd = [x for x in range(10, 20) if x%2]\n",
        "\n",
        "print(f'Even : {even}')\n",
        "print(f'Odd : {odd}\\n')\n",
        "\n",
        "print(f'Sum : {[x+y for x,y in zip(even, odd)]}')"
      ],
      "execution_count": 31,
      "outputs": [
        {
          "output_type": "stream",
          "text": [
            "Even : [10, 12, 14, 16, 18]\n",
            "Odd : [11, 13, 15, 17, 19]\n",
            "\n",
            "Sum : [21, 25, 29, 33, 37]\n"
          ],
          "name": "stdout"
        }
      ]
    },
    {
      "cell_type": "markdown",
      "metadata": {
        "id": "-mP9NcPDMX15"
      },
      "source": [
        "b) Strips every vowel from a string provided"
      ]
    },
    {
      "cell_type": "code",
      "metadata": {
        "id": "VZtqXKdrLmFr",
        "outputId": "f5d5ac72-0529-402f-d266-ce25f7373b8c",
        "colab": {
          "base_uri": "https://localhost:8080/"
        }
      },
      "source": [
        "def strip(x):\n",
        "  return [c for c in x if c.upper() not in \"aeiou\".upper()]\n",
        "\n",
        "print(''.join(strip('tsai')))"
      ],
      "execution_count": 40,
      "outputs": [
        {
          "output_type": "stream",
          "text": [
            "ts\n"
          ],
          "name": "stdout"
        }
      ]
    },
    {
      "cell_type": "markdown",
      "metadata": {
        "id": "rUYELCBMOsTC"
      },
      "source": [
        "c) Acts like a ReLU function for a 1D array"
      ]
    },
    {
      "cell_type": "code",
      "metadata": {
        "id": "AMO0ocIJNp0g",
        "outputId": "294755b5-8417-4f1b-8c68-3b38468f1e13",
        "colab": {
          "base_uri": "https://localhost:8080/"
        }
      },
      "source": [
        "def reLu(l):\n",
        "  return [x for x in l if x>=0]\n",
        "\n",
        "reLu([-1, 0 ,1])"
      ],
      "execution_count": 41,
      "outputs": [
        {
          "output_type": "execute_result",
          "data": {
            "text/plain": [
              "[0, 1]"
            ]
          },
          "metadata": {
            "tags": []
          },
          "execution_count": 41
        }
      ]
    },
    {
      "cell_type": "markdown",
      "metadata": {
        "id": "gPNb-lv5O__O"
      },
      "source": [
        "d) Acts like a sigmoid function for a 1D array"
      ]
    },
    {
      "cell_type": "code",
      "metadata": {
        "id": "O_Dn5_9jO9UA",
        "outputId": "efe9051e-3cc3-4958-e893-07eda1f193e3",
        "colab": {
          "base_uri": "https://localhost:8080/"
        }
      },
      "source": [
        "import math\n",
        "def sigmoid(l):\n",
        "  return [1/(1+math.exp(-x)) for x in l]\n",
        "\n",
        "sigmoid([-10, -5, -1, 0, 1, 5, 10])"
      ],
      "execution_count": 51,
      "outputs": [
        {
          "output_type": "execute_result",
          "data": {
            "text/plain": [
              "[4.5397868702434395e-05,\n",
              " 0.0066928509242848554,\n",
              " 0.2689414213699951,\n",
              " 0.5,\n",
              " 0.7310585786300049,\n",
              " 0.9933071490757153,\n",
              " 0.9999546021312976]"
            ]
          },
          "metadata": {
            "tags": []
          },
          "execution_count": 51
        }
      ]
    },
    {
      "cell_type": "markdown",
      "metadata": {
        "id": "JOfesbMORHYW"
      },
      "source": [
        "e) Takes a small character string and shifts all characters by 5"
      ]
    },
    {
      "cell_type": "code",
      "metadata": {
        "id": "3MYs04mFPjXN",
        "outputId": "6b756044-9ff0-48c0-c108-e2d621263c8f",
        "colab": {
          "base_uri": "https://localhost:8080/"
        }
      },
      "source": [
        "def shiftByN(s, n=1):\n",
        "     return [chr((ord(x)-ord('a')+n)%26+ord('a')) for x in s]\n",
        "     \n",
        "shiftByN('tsai', 5)"
      ],
      "execution_count": 64,
      "outputs": [
        {
          "output_type": "execute_result",
          "data": {
            "text/plain": [
              "['y', 'x', 'f', 'n']"
            ]
          },
          "metadata": {
            "tags": []
          },
          "execution_count": 64
        }
      ]
    },
    {
      "cell_type": "markdown",
      "metadata": {
        "id": "6xRVPXVRSwBg"
      },
      "source": [
        "## 3) A list comprehension expression that takes a ~200 word paragraph, and checks whether it has any of the swear words"
      ]
    },
    {
      "cell_type": "code",
      "metadata": {
        "id": "SLOPvnQaRhj7",
        "outputId": "09a63192-39d1-4dd1-cb1b-c8fdbfd4c1cb",
        "colab": {
          "base_uri": "https://localhost:8080/"
        }
      },
      "source": [
        "!git clone 'https://github.com/RobertJGabriel/Google-profanity-words.git'\n",
        "f = open(\"/content/Google-profanity-words/list.txt\", \"r\")\n",
        "swearWords = [x.strip('\\n') for x in f]"
      ],
      "execution_count": 71,
      "outputs": [
        {
          "output_type": "stream",
          "text": [
            "Cloning into 'Google-profanity-words'...\n",
            "remote: Enumerating objects: 9, done.\u001b[K\n",
            "remote: Counting objects: 100% (9/9), done.\u001b[K\n",
            "remote: Compressing objects: 100% (9/9), done.\u001b[K\n",
            "remote: Total 25 (delta 2), reused 0 (delta 0), pack-reused 16\u001b[K\n",
            "Unpacking objects: 100% (25/25), done.\n"
          ],
          "name": "stdout"
        }
      ]
    },
    {
      "cell_type": "code",
      "metadata": {
        "id": "RyARMQtMUYIp"
      },
      "source": [
        "#Third word is swear\n",
        "s = \"\"\"Tesla is fcuking awesome. Tesla is Tesla, Inc. (formerly Tesla Motors, Inc.) is an American electric vehicle and clean energy company based in Palo Alto, California.Tesla's current products include electric cars (the Model S, Model 3, Model X, and Model Y), battery energy storage from home to grid scale (the Powerwall, Powerpack, and Megapack), solar products (solar panels and solar roof tiles) and related products and services.\n",
        "\n",
        "Founded in July 2003 by engineers Martin Eberhard and Marc Tarpenning as Tesla Motors, the company’s name is a tribute to inventor and electrical engineer Nikola Tesla. Eberhard said he wanted to build \"a car manufacturer that is also a technology company\", with its core technologies as \"the battery, the computer software, and the proprietary motor\".\n",
        "The next three employees at Tesla were Ian Wright, Elon Musk, and J. B. Straubel. Musk, who has served as CEO since 2008, said in 2006 that \"the overarching purpose of Tesla Motors...is to help expedite the move from a mine-and-burn hydrocarbon economy towards a solar electric economy\" and it would build a wide range of electric vehicles, including \"affordably priced family cars\", and co-market SolarCity solar panels to do so. Tesla acquired SolarCity in 2016.\"\"\""
      ],
      "execution_count": 108,
      "outputs": []
    },
    {
      "cell_type": "code",
      "metadata": {
        "id": "azdQpu2aVztA",
        "outputId": "a2fe0430-e020-402f-9317-08e08ad1bf7f",
        "colab": {
          "base_uri": "https://localhost:8080/"
        }
      },
      "source": [
        "def checkSwear(s):\n",
        "  print('True') if([x for x in s.split() if x in swearWords]) else print('False')\n",
        "checkSwear(s)"
      ],
      "execution_count": 109,
      "outputs": [
        {
          "output_type": "stream",
          "text": [
            "True\n"
          ],
          "name": "stdout"
        }
      ]
    },
    {
      "cell_type": "markdown",
      "metadata": {
        "id": "rIKa0OF3Ygug"
      },
      "source": [
        "## 4) Using reduce functions:"
      ]
    },
    {
      "cell_type": "markdown",
      "metadata": {
        "id": "P6a2w3d4Yl1-"
      },
      "source": [
        "a) Add only even numbers in a list"
      ]
    },
    {
      "cell_type": "code",
      "metadata": {
        "id": "HxFcg_-KV0gQ",
        "outputId": "00b81ebe-c6cb-4c7a-8132-42a51fb9e2f2",
        "colab": {
          "base_uri": "https://localhost:8080/"
        }
      },
      "source": [
        "from functools import reduce\n",
        "numbers = [x for x in range(10,20)]\n",
        "\n",
        "print(numbers)\n",
        "print(reduce(lambda x,y : x+y, [x for x in numbers if x%2==0]))"
      ],
      "execution_count": 151,
      "outputs": [
        {
          "output_type": "stream",
          "text": [
            "70\n",
            "[10, 11, 12, 13, 14, 15, 16, 17, 18, 19]\n"
          ],
          "name": "stdout"
        }
      ]
    },
    {
      "cell_type": "markdown",
      "metadata": {
        "id": "1o2dCiTRpYr_"
      },
      "source": [
        "b) Find the biggest character in a string"
      ]
    },
    {
      "cell_type": "code",
      "metadata": {
        "id": "qsUV9eeUpenP",
        "outputId": "063a2e88-1988-4f24-d440-b7cc3521c536",
        "colab": {
          "base_uri": "https://localhost:8080/"
        }
      },
      "source": [
        "s=string.ascii_letters\n",
        "print(s)\n",
        "print(reduce(lambda x, y : x if x > y else y, s))"
      ],
      "execution_count": 150,
      "outputs": [
        {
          "output_type": "stream",
          "text": [
            "abcdefghijklmnopqrstuvwxyzABCDEFGHIJKLMNOPQRSTUVWXYZ\n",
            "z\n"
          ],
          "name": "stdout"
        }
      ]
    },
    {
      "cell_type": "markdown",
      "metadata": {
        "id": "J18FwTyUqjxg"
      },
      "source": [
        "c) Adds every 3rd number in a list"
      ]
    },
    {
      "cell_type": "code",
      "metadata": {
        "id": "3alq2LCLqm7z",
        "outputId": "fda1f53f-c23e-4cbd-e780-4d946eaf2a00",
        "colab": {
          "base_uri": "https://localhost:8080/"
        }
      },
      "source": [
        "numbers=[x for x in range(10,20)]\n",
        "print(numbers)\n",
        "print(reduce(lambda x,y : x+y, numbers[::3]))"
      ],
      "execution_count": 152,
      "outputs": [
        {
          "output_type": "stream",
          "text": [
            "[10, 11, 12, 13, 14, 15, 16, 17, 18, 19]\n",
            "58\n"
          ],
          "name": "stdout"
        }
      ]
    },
    {
      "cell_type": "markdown",
      "metadata": {
        "id": "h35TtRV3bQdn"
      },
      "source": [
        "## 5) Using randint, random.choice and list comprehensions, write an expression that generates 15 random KADDAADDDD number plates, where KA is fixed, D stands for a digit, and A stands for Capital alphabets. 10<<DD<<99 & 1000<<DDDD<<9999"
      ]
    },
    {
      "cell_type": "code",
      "metadata": {
        "id": "L9fpBNbCZUJv",
        "outputId": "1e4981e3-482f-4195-c6ef-94f65cc70814",
        "colab": {
          "base_uri": "https://localhost:8080/"
        }
      },
      "source": [
        "import random\n",
        "import string\n",
        "\n",
        "def createNumberPlate():\n",
        "  alphabets = string.ascii_uppercase\n",
        "  twoAlphabets = [alphabets[i]+alphabets[j] for i in range(len(alphabets)) for j in range(len(alphabets))]\n",
        "\n",
        "  return ['KA' + str(random.randint(10, 99)) + random.choice(twoAlphabets) + str(random.randint(1000, 9999)) for _ in range(15)]\n",
        "\n",
        "print(createNumberPlate())"
      ],
      "execution_count": 143,
      "outputs": [
        {
          "output_type": "stream",
          "text": [
            "['KA53AH7400', 'KA95DK3887', 'KA52FE9875', 'KA20JE5366', 'KA96BN8297', 'KA18SZ6852', 'KA49PP7469', 'KA19SE8756', 'KA20OB4408', 'KA27PP8455', 'KA92PW7230', 'KA95DE2647', 'KA54HR4713', 'KA95XP8352', 'KA42IP4210']\n"
          ],
          "name": "stdout"
        }
      ]
    },
    {
      "cell_type": "markdown",
      "metadata": {
        "id": "n87knSoSnFFA"
      },
      "source": [
        "## 6) Write the above again from scratch where KA can be changed to DL, and 1000/9999 ranges can be provided"
      ]
    },
    {
      "cell_type": "markdown",
      "metadata": {
        "id": "lgy1_w-4s5zj"
      },
      "source": [
        "### Assumed that DL/KA, and range will be passes to functions.(as the word provided was mentioned in the question)\n"
      ]
    },
    {
      "cell_type": "code",
      "metadata": {
        "id": "jT5LaFG0kkwg",
        "outputId": "624c0bdd-5749-44f0-d521-93b6979ac00d",
        "colab": {
          "base_uri": "https://localhost:8080/"
        }
      },
      "source": [
        "import random\n",
        "import string\n",
        "\n",
        "def createNumberPlate(x, r):\n",
        "  alphabets = string.ascii_uppercase\n",
        "  twoAlphabets = [alphabets[i]+alphabets[j] for i in range(len(alphabets)) for j in range(len(alphabets))]\n",
        "\n",
        "  return [x + str(random.randint(10, 99)) + random.choice(twoAlphabets) + str(random.randint(r[0], r[1])) for _ in range(15)]\n",
        "\n",
        "print(createNumberPlate('KA', (5000,6000)))\n",
        "print(createNumberPlate('DL', (1000,2000)))\n"
      ],
      "execution_count": 138,
      "outputs": [
        {
          "output_type": "stream",
          "text": [
            "['KA74KJ5616', 'KA21MA5210', 'KA85ZW5597', 'KA63FT5754', 'KA48HB5064', 'KA75TD5844', 'KA62NA5066', 'KA44VW5250', 'KA85GQ5140', 'KA12LZ5489', 'KA12KS5321', 'KA29DR5417', 'KA12HY5920', 'KA90LW5972', 'KA79MO5483']\n",
            "['DL63IC1212', 'DL90DF1679', 'DL62NS1826', 'DL25PR1136', 'DL83PP1311', 'DL62GN1026', 'DL80GQ1415', 'DL72BU1739', 'DL31QG1391', 'DL98FE1915', 'DL92PZ1469', 'DL17EW1439', 'DL96JH1258', 'DL42YU1495', 'DL21FG1009']\n"
          ],
          "name": "stdout"
        }
      ]
    }
  ]
}
