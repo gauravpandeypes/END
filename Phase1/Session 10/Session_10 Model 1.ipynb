{
  "nbformat": 4,
  "nbformat_minor": 0,
  "metadata": {
    "colab": {
      "name": "Session 10.ipynb",
      "provenance": [],
      "collapsed_sections": []
    },
    "kernelspec": {
      "name": "python3",
      "display_name": "Python 3"
    },
    "accelerator": "GPU"
  },
  "cells": [
    {
      "cell_type": "code",
      "metadata": {
        "id": "G4M9dKv__FUe"
      },
      "source": [
        "import torch \r\n",
        "import torch.nn as nn\r\n",
        "import torch.optim as optim\r\n",
        "import torch.nn.functional as F\r\n",
        "\r\n",
        "from torchtext.datasets import Multi30k\r\n",
        "from torchtext.data import Field, BucketIterator\r\n",
        "\r\n",
        "import spacy\r\n",
        "import numpy as np\r\n",
        "import random\r\n",
        "import math\r\n",
        "import time"
      ],
      "execution_count": 120,
      "outputs": []
    },
    {
      "cell_type": "code",
      "metadata": {
        "id": "33XcxYDy_qv3"
      },
      "source": [
        "SEED = 1234\r\n",
        "\r\n",
        "random.seed(SEED)\r\n",
        "np.random.seed(SEED)\r\n",
        "torch.manual_seed(SEED)\r\n",
        "torch.cuda.manual_seed(SEED)\r\n",
        "torch.backends.cudnn.deterministic = True"
      ],
      "execution_count": 121,
      "outputs": []
    },
    {
      "cell_type": "code",
      "metadata": {
        "colab": {
          "base_uri": "https://localhost:8080/"
        },
        "id": "UqFdOLn6AWFg",
        "outputId": "d6883a03-7f10-4aad-edd0-4f2f8e9e1763"
      },
      "source": [
        "!python -m spacy download de\r\n",
        "!python -m spacy download en"
      ],
      "execution_count": 122,
      "outputs": [
        {
          "output_type": "stream",
          "text": [
            "Requirement already satisfied: de_core_news_sm==2.2.5 from https://github.com/explosion/spacy-models/releases/download/de_core_news_sm-2.2.5/de_core_news_sm-2.2.5.tar.gz#egg=de_core_news_sm==2.2.5 in /usr/local/lib/python3.6/dist-packages (2.2.5)\n",
            "Requirement already satisfied: spacy>=2.2.2 in /usr/local/lib/python3.6/dist-packages (from de_core_news_sm==2.2.5) (2.2.4)\n",
            "Requirement already satisfied: setuptools in /usr/local/lib/python3.6/dist-packages (from spacy>=2.2.2->de_core_news_sm==2.2.5) (51.1.1)\n",
            "Requirement already satisfied: blis<0.5.0,>=0.4.0 in /usr/local/lib/python3.6/dist-packages (from spacy>=2.2.2->de_core_news_sm==2.2.5) (0.4.1)\n",
            "Requirement already satisfied: cymem<2.1.0,>=2.0.2 in /usr/local/lib/python3.6/dist-packages (from spacy>=2.2.2->de_core_news_sm==2.2.5) (2.0.5)\n",
            "Requirement already satisfied: plac<1.2.0,>=0.9.6 in /usr/local/lib/python3.6/dist-packages (from spacy>=2.2.2->de_core_news_sm==2.2.5) (1.1.3)\n",
            "Requirement already satisfied: thinc==7.4.0 in /usr/local/lib/python3.6/dist-packages (from spacy>=2.2.2->de_core_news_sm==2.2.5) (7.4.0)\n",
            "Requirement already satisfied: numpy>=1.15.0 in /usr/local/lib/python3.6/dist-packages (from spacy>=2.2.2->de_core_news_sm==2.2.5) (1.19.5)\n",
            "Requirement already satisfied: murmurhash<1.1.0,>=0.28.0 in /usr/local/lib/python3.6/dist-packages (from spacy>=2.2.2->de_core_news_sm==2.2.5) (1.0.5)\n",
            "Requirement already satisfied: requests<3.0.0,>=2.13.0 in /usr/local/lib/python3.6/dist-packages (from spacy>=2.2.2->de_core_news_sm==2.2.5) (2.23.0)\n",
            "Requirement already satisfied: catalogue<1.1.0,>=0.0.7 in /usr/local/lib/python3.6/dist-packages (from spacy>=2.2.2->de_core_news_sm==2.2.5) (1.0.0)\n",
            "Requirement already satisfied: srsly<1.1.0,>=1.0.2 in /usr/local/lib/python3.6/dist-packages (from spacy>=2.2.2->de_core_news_sm==2.2.5) (1.0.5)\n",
            "Requirement already satisfied: wasabi<1.1.0,>=0.4.0 in /usr/local/lib/python3.6/dist-packages (from spacy>=2.2.2->de_core_news_sm==2.2.5) (0.8.0)\n",
            "Requirement already satisfied: preshed<3.1.0,>=3.0.2 in /usr/local/lib/python3.6/dist-packages (from spacy>=2.2.2->de_core_news_sm==2.2.5) (3.0.5)\n",
            "Requirement already satisfied: tqdm<5.0.0,>=4.38.0 in /usr/local/lib/python3.6/dist-packages (from spacy>=2.2.2->de_core_news_sm==2.2.5) (4.41.1)\n",
            "Requirement already satisfied: chardet<4,>=3.0.2 in /usr/local/lib/python3.6/dist-packages (from requests<3.0.0,>=2.13.0->spacy>=2.2.2->de_core_news_sm==2.2.5) (3.0.4)\n",
            "Requirement already satisfied: urllib3!=1.25.0,!=1.25.1,<1.26,>=1.21.1 in /usr/local/lib/python3.6/dist-packages (from requests<3.0.0,>=2.13.0->spacy>=2.2.2->de_core_news_sm==2.2.5) (1.24.3)\n",
            "Requirement already satisfied: idna<3,>=2.5 in /usr/local/lib/python3.6/dist-packages (from requests<3.0.0,>=2.13.0->spacy>=2.2.2->de_core_news_sm==2.2.5) (2.10)\n",
            "Requirement already satisfied: certifi>=2017.4.17 in /usr/local/lib/python3.6/dist-packages (from requests<3.0.0,>=2.13.0->spacy>=2.2.2->de_core_news_sm==2.2.5) (2020.12.5)\n",
            "Requirement already satisfied: importlib-metadata>=0.20; python_version < \"3.8\" in /usr/local/lib/python3.6/dist-packages (from catalogue<1.1.0,>=0.0.7->spacy>=2.2.2->de_core_news_sm==2.2.5) (3.3.0)\n",
            "Requirement already satisfied: zipp>=0.5 in /usr/local/lib/python3.6/dist-packages (from importlib-metadata>=0.20; python_version < \"3.8\"->catalogue<1.1.0,>=0.0.7->spacy>=2.2.2->de_core_news_sm==2.2.5) (3.4.0)\n",
            "Requirement already satisfied: typing-extensions>=3.6.4; python_version < \"3.8\" in /usr/local/lib/python3.6/dist-packages (from importlib-metadata>=0.20; python_version < \"3.8\"->catalogue<1.1.0,>=0.0.7->spacy>=2.2.2->de_core_news_sm==2.2.5) (3.7.4.3)\n",
            "\u001b[38;5;2m✔ Download and installation successful\u001b[0m\n",
            "You can now load the model via spacy.load('de_core_news_sm')\n",
            "\u001b[38;5;2m✔ Linking successful\u001b[0m\n",
            "/usr/local/lib/python3.6/dist-packages/de_core_news_sm -->\n",
            "/usr/local/lib/python3.6/dist-packages/spacy/data/de\n",
            "You can now load the model via spacy.load('de')\n",
            "Requirement already satisfied: en_core_web_sm==2.2.5 from https://github.com/explosion/spacy-models/releases/download/en_core_web_sm-2.2.5/en_core_web_sm-2.2.5.tar.gz#egg=en_core_web_sm==2.2.5 in /usr/local/lib/python3.6/dist-packages (2.2.5)\n",
            "Requirement already satisfied: spacy>=2.2.2 in /usr/local/lib/python3.6/dist-packages (from en_core_web_sm==2.2.5) (2.2.4)\n",
            "Requirement already satisfied: tqdm<5.0.0,>=4.38.0 in /usr/local/lib/python3.6/dist-packages (from spacy>=2.2.2->en_core_web_sm==2.2.5) (4.41.1)\n",
            "Requirement already satisfied: setuptools in /usr/local/lib/python3.6/dist-packages (from spacy>=2.2.2->en_core_web_sm==2.2.5) (51.1.1)\n",
            "Requirement already satisfied: numpy>=1.15.0 in /usr/local/lib/python3.6/dist-packages (from spacy>=2.2.2->en_core_web_sm==2.2.5) (1.19.5)\n",
            "Requirement already satisfied: cymem<2.1.0,>=2.0.2 in /usr/local/lib/python3.6/dist-packages (from spacy>=2.2.2->en_core_web_sm==2.2.5) (2.0.5)\n",
            "Requirement already satisfied: srsly<1.1.0,>=1.0.2 in /usr/local/lib/python3.6/dist-packages (from spacy>=2.2.2->en_core_web_sm==2.2.5) (1.0.5)\n",
            "Requirement already satisfied: thinc==7.4.0 in /usr/local/lib/python3.6/dist-packages (from spacy>=2.2.2->en_core_web_sm==2.2.5) (7.4.0)\n",
            "Requirement already satisfied: blis<0.5.0,>=0.4.0 in /usr/local/lib/python3.6/dist-packages (from spacy>=2.2.2->en_core_web_sm==2.2.5) (0.4.1)\n",
            "Requirement already satisfied: murmurhash<1.1.0,>=0.28.0 in /usr/local/lib/python3.6/dist-packages (from spacy>=2.2.2->en_core_web_sm==2.2.5) (1.0.5)\n",
            "Requirement already satisfied: wasabi<1.1.0,>=0.4.0 in /usr/local/lib/python3.6/dist-packages (from spacy>=2.2.2->en_core_web_sm==2.2.5) (0.8.0)\n",
            "Requirement already satisfied: catalogue<1.1.0,>=0.0.7 in /usr/local/lib/python3.6/dist-packages (from spacy>=2.2.2->en_core_web_sm==2.2.5) (1.0.0)\n",
            "Requirement already satisfied: plac<1.2.0,>=0.9.6 in /usr/local/lib/python3.6/dist-packages (from spacy>=2.2.2->en_core_web_sm==2.2.5) (1.1.3)\n",
            "Requirement already satisfied: requests<3.0.0,>=2.13.0 in /usr/local/lib/python3.6/dist-packages (from spacy>=2.2.2->en_core_web_sm==2.2.5) (2.23.0)\n",
            "Requirement already satisfied: preshed<3.1.0,>=3.0.2 in /usr/local/lib/python3.6/dist-packages (from spacy>=2.2.2->en_core_web_sm==2.2.5) (3.0.5)\n",
            "Requirement already satisfied: importlib-metadata>=0.20; python_version < \"3.8\" in /usr/local/lib/python3.6/dist-packages (from catalogue<1.1.0,>=0.0.7->spacy>=2.2.2->en_core_web_sm==2.2.5) (3.3.0)\n",
            "Requirement already satisfied: idna<3,>=2.5 in /usr/local/lib/python3.6/dist-packages (from requests<3.0.0,>=2.13.0->spacy>=2.2.2->en_core_web_sm==2.2.5) (2.10)\n",
            "Requirement already satisfied: certifi>=2017.4.17 in /usr/local/lib/python3.6/dist-packages (from requests<3.0.0,>=2.13.0->spacy>=2.2.2->en_core_web_sm==2.2.5) (2020.12.5)\n",
            "Requirement already satisfied: urllib3!=1.25.0,!=1.25.1,<1.26,>=1.21.1 in /usr/local/lib/python3.6/dist-packages (from requests<3.0.0,>=2.13.0->spacy>=2.2.2->en_core_web_sm==2.2.5) (1.24.3)\n",
            "Requirement already satisfied: chardet<4,>=3.0.2 in /usr/local/lib/python3.6/dist-packages (from requests<3.0.0,>=2.13.0->spacy>=2.2.2->en_core_web_sm==2.2.5) (3.0.4)\n",
            "Requirement already satisfied: typing-extensions>=3.6.4; python_version < \"3.8\" in /usr/local/lib/python3.6/dist-packages (from importlib-metadata>=0.20; python_version < \"3.8\"->catalogue<1.1.0,>=0.0.7->spacy>=2.2.2->en_core_web_sm==2.2.5) (3.7.4.3)\n",
            "Requirement already satisfied: zipp>=0.5 in /usr/local/lib/python3.6/dist-packages (from importlib-metadata>=0.20; python_version < \"3.8\"->catalogue<1.1.0,>=0.0.7->spacy>=2.2.2->en_core_web_sm==2.2.5) (3.4.0)\n",
            "\u001b[38;5;2m✔ Download and installation successful\u001b[0m\n",
            "You can now load the model via spacy.load('en_core_web_sm')\n",
            "\u001b[38;5;2m✔ Linking successful\u001b[0m\n",
            "/usr/local/lib/python3.6/dist-packages/en_core_web_sm -->\n",
            "/usr/local/lib/python3.6/dist-packages/spacy/data/en\n",
            "You can now load the model via spacy.load('en')\n"
          ],
          "name": "stdout"
        }
      ]
    },
    {
      "cell_type": "code",
      "metadata": {
        "id": "fKzwcXgl_6yV"
      },
      "source": [
        "spacy_de = spacy.load('de')\r\n",
        "spacy_en = spacy.load('en')"
      ],
      "execution_count": 123,
      "outputs": []
    },
    {
      "cell_type": "code",
      "metadata": {
        "id": "VAGMV0a2AFqC"
      },
      "source": [
        "def tokenize_de(text):\r\n",
        "  \"\"\"\r\n",
        "  Tokenizes German text from a string into a list of strings\r\n",
        "  \"\"\"\r\n",
        "  return [tok.text for tok in spacy_de.tokenizer(text)]\r\n",
        "def tokenize_en(text):\r\n",
        "  \"\"\"\r\n",
        "  Tokenizes English text from a string into a list of strings\r\n",
        "  \"\"\"\r\n",
        "  return [tok.text for tok in spacy_en.tokenizer(text)]"
      ],
      "execution_count": 124,
      "outputs": []
    },
    {
      "cell_type": "code",
      "metadata": {
        "id": "0XFLB8ThAxAg"
      },
      "source": [
        "SRC = Field(tokenize = tokenize_en, \r\n",
        "            init_token = '<sos>',\r\n",
        "            eos_token = '<eos>',\r\n",
        "            lower = True)\r\n",
        "TRG = Field(tokenize = tokenize_de, \r\n",
        "            init_token = '<sos>',\r\n",
        "            eos_token = '<eos>',\r\n",
        "            lower = True)"
      ],
      "execution_count": 148,
      "outputs": []
    },
    {
      "cell_type": "code",
      "metadata": {
        "id": "BLcQD07eBJOw"
      },
      "source": [
        "#POSSIBLE CHANGE\r\n",
        "train_data, valid_data, test_data = Multi30k.splits(exts = ('.en', '.de'),\r\n",
        "                                                    fields = (SRC, TRG))"
      ],
      "execution_count": 149,
      "outputs": []
    },
    {
      "cell_type": "code",
      "metadata": {
        "id": "-NKzB3gWBj8z"
      },
      "source": [
        "SRC.build_vocab(train_data, min_freq = 2)\r\n",
        "TRG.build_vocab(train_data, min_freq = 2)"
      ],
      "execution_count": 150,
      "outputs": []
    },
    {
      "cell_type": "code",
      "metadata": {
        "colab": {
          "base_uri": "https://localhost:8080/"
        },
        "id": "FTvfh888C5dd",
        "outputId": "0810cbda-ff61-4de9-fdfa-8f9ea43b8146"
      },
      "source": [
        "BATCH_SIZE = 128\r\n",
        "device = torch.device('cuda' if torch.cuda.is_available() else 'cpu')\r\n",
        "\r\n",
        "train_iterator, valid_iterator, test_iterator = BucketIterator.splits(\r\n",
        "    (train_data, valid_data, test_data),\r\n",
        "    batch_size = BATCH_SIZE,\r\n",
        "    device = device\r\n",
        ")\r\n",
        "device"
      ],
      "execution_count": 151,
      "outputs": [
        {
          "output_type": "execute_result",
          "data": {
            "text/plain": [
              "device(type='cuda')"
            ]
          },
          "metadata": {
            "tags": []
          },
          "execution_count": 151
        }
      ]
    },
    {
      "cell_type": "code",
      "metadata": {
        "id": "VTyTN0XQDYK_"
      },
      "source": [
        "class Encoder(nn.Module):\r\n",
        "  def __init__(self, input_dim, emb_dim, enc_hid_dim, dec_hid_dim, dropout):\r\n",
        "    super().__init__()\r\n",
        "    self.embedding = nn.Embedding(input_dim, emb_dim)\r\n",
        "    self.rnn = nn.GRU(emb_dim, enc_hid_dim, bidirectional = True)\r\n",
        "    self.fc = nn.Linear(enc_hid_dim * 2, dec_hid_dim)\r\n",
        "    self.dropout = nn.Dropout(dropout)\r\n",
        "\r\n",
        "  def forward(self, src):\r\n",
        "    # src = [src len, batch size]\r\n",
        "    embedding = self.dropout(self.embedding(src))\r\n",
        "    # embedding = [sec len, batch size, emb dim]\r\n",
        "    output = self.rnn(embedding)\r\n",
        "    outputs, hidden = self.rnn(embedding)\r\n",
        "    # outputs = [src len, batch size, hid dim * nim directions]\r\n",
        "    # hidden = [n layers * num directions, batch size, hid dim]\r\n",
        "    hidden = torch.tanh(self.fc(torch.cat((hidden[-2, :, :], hidden[-1, :, :]), dim=1)))\r\n",
        "    \r\n",
        "    # outputs = [ src len, batch size, enc hid dim * 2]\r\n",
        "    #hidden = [ batch size, dec hid dim]\r\n",
        "\r\n",
        "    return outputs, hidden"
      ],
      "execution_count": 152,
      "outputs": []
    },
    {
      "cell_type": "code",
      "metadata": {
        "colab": {
          "base_uri": "https://localhost:8080/"
        },
        "id": "n_4SK-_REvHd",
        "outputId": "156b2ddb-15d9-43e8-c495-9ad7a303b68c"
      },
      "source": [
        "enc = Encoder(input_dim = 32,\r\n",
        "              emb_dim = 256,\r\n",
        "              enc_hid_dim = 512,\r\n",
        "              dec_hid_dim = 512, \r\n",
        "              dropout = 0.1)\r\n",
        "enc"
      ],
      "execution_count": 153,
      "outputs": [
        {
          "output_type": "execute_result",
          "data": {
            "text/plain": [
              "Encoder(\n",
              "  (embedding): Embedding(32, 256)\n",
              "  (rnn): GRU(256, 512, bidirectional=True)\n",
              "  (fc): Linear(in_features=1024, out_features=512, bias=True)\n",
              "  (dropout): Dropout(p=0.1, inplace=False)\n",
              ")"
            ]
          },
          "metadata": {
            "tags": []
          },
          "execution_count": 153
        }
      ]
    },
    {
      "cell_type": "code",
      "metadata": {
        "id": "9_oJvlUkFC2y"
      },
      "source": [
        "class Attention(nn.Module):\r\n",
        "  def __init__(self, enc_hid_dim, dec_hid_dim):\r\n",
        "    super().__init__()\r\n",
        "    self.attn = nn.Linear((enc_hid_dim * 2) + dec_hid_dim, dec_hid_dim)\r\n",
        "    self.v = nn.Linear(dec_hid_dim, 1, bias = False)\r\n",
        "\r\n",
        "  def forward(self, hidden, encoder_outputs):\r\n",
        "    # print(encoder_outputs[0].size(), encoder_outputs[1].size())\r\n",
        "    # print(hidden[0].size(), hidden[1].size())\r\n",
        "    # hidden = [batch size, dec, hid dim]\r\n",
        "    # encoder_outputs = [src len, batch size, enc hid dim * 2]\r\n",
        "    src_len = encoder_outputs.shape[0]\r\n",
        "    batch_size = encoder_outputs.shape[1]\r\n",
        "\r\n",
        "    hidden = hidden.unsqueeze(1).repeat(1, src_len, 1)\r\n",
        "    encoder_outputs = encoder_outputs.permute(1, 0, 2)\r\n",
        "\r\n",
        "    # hidden = [batch size, src len, dec hid dim]\r\n",
        "    # encoder_outputs = [batch size, src len, enc hid dim *2]\r\n",
        "    energy = torch.tanh(self.attn(torch.cat((hidden, encoder_outputs), dim = 2)))\r\n",
        "\r\n",
        "    # energy = [batch size, src len, dec hid dim]\r\n",
        "    attention = self.v(energy).squeeze(2)\r\n",
        "    # attention = [batch size, src len]\r\n",
        "    return F.softmax(attention, dim = 1)"
      ],
      "execution_count": 154,
      "outputs": []
    },
    {
      "cell_type": "code",
      "metadata": {
        "colab": {
          "base_uri": "https://localhost:8080/"
        },
        "id": "7nOW4Hkdut5O",
        "outputId": "cfa6013d-9816-4b9e-e40c-7add1fe35818"
      },
      "source": [
        "o, h = enc.forward(torch.zeros(12, 32).to(torch.int64))\r\n",
        "o.size() , h.size()"
      ],
      "execution_count": 155,
      "outputs": [
        {
          "output_type": "execute_result",
          "data": {
            "text/plain": [
              "(torch.Size([12, 32, 1024]), torch.Size([32, 512]))"
            ]
          },
          "metadata": {
            "tags": []
          },
          "execution_count": 155
        }
      ]
    },
    {
      "cell_type": "code",
      "metadata": {
        "id": "AdokJoPCI7o3"
      },
      "source": [
        "class Decoder(nn.Module):\r\n",
        "  def __init__(self, output_dim, emb_dim, enc_hid_dim, dec_hid_dim, dropout, attention):\r\n",
        "    super().__init__()\r\n",
        "    self.output_dim = output_dim\r\n",
        "    self.attention = attention\r\n",
        "    self.embedding = nn.Embedding(output_dim, emb_dim)\r\n",
        "    self.rnn = nn.GRU((enc_hid_dim * 2) + emb_dim, dec_hid_dim)\r\n",
        "    self.fc_out = nn.Linear((enc_hid_dim * 2) + emb_dim + dec_hid_dim, output_dim)\r\n",
        "    self.dropout = nn.Dropout(dropout)\r\n",
        "\r\n",
        "  def forward(self, input, hidden, encoder_outputs):\r\n",
        "    # input = [batch size]\r\n",
        "\r\n",
        "    input = input.unsqueeze(0)\r\n",
        "    # input = [1, batch size]\r\n",
        "\r\n",
        "    embedded = self.dropout(self.embedding(input))\r\n",
        "    # embedding = [1, batch size, emb dim]\r\n",
        "\r\n",
        "    a = self.attention(hidden, encoder_outputs)\r\n",
        "    # a = [batch size, 1, src len]\r\n",
        "\r\n",
        "    a = a.unsqueeze(1)\r\n",
        "    # a = [batch size, 1, src len]\r\n",
        "\r\n",
        "    encoder_outputs = encoder_outputs.permute(1, 0, 2)\r\n",
        "    # encoder_outputs = [batch size, sec len, enc hid dim * 2]\r\n",
        "\r\n",
        "    weighted = torch.bmm(a, encoder_outputs)#@@@\r\n",
        "    # weighted = [batch size, 1, enc hid dim * 2]\r\n",
        "\r\n",
        "    weighted = weighted.permute(1, 0, 2)\r\n",
        "    # weighted = [1, batch size, enc hid dim * 2]\r\n",
        "\r\n",
        "    rnn_input = torch.cat((embedded, weighted), dim = 2)\r\n",
        "    # rnn_input = [1, batch size, (end hid dim * 2) + emd dim]\r\n",
        "    output, hidden = self.rnn(rnn_input, hidden.unsqueeze(0))\r\n",
        "\r\n",
        "    embedded = embedded.squeeze(0)#@@@@\r\n",
        "    output = output.squeeze(0)\r\n",
        "    weighted = weighted.squeeze(0)\r\n",
        "\r\n",
        "    prediction = self.fc_out(torch.cat((output, weighted, embedded), dim = 1))\r\n",
        "\r\n",
        "    # prediction = [batch size, output dim]\r\n",
        "    return prediction, hidden.squeeze(0)"
      ],
      "execution_count": 156,
      "outputs": []
    },
    {
      "cell_type": "code",
      "metadata": {
        "id": "P4XcxBGrKs1b"
      },
      "source": [
        "class Seq2Seq(nn.Module):\r\n",
        "  def __init__(self, encoder, decoder, device):\r\n",
        "    super().__init__()\r\n",
        "\r\n",
        "    self.encoder = encoder \r\n",
        "    self.decoder = decoder\r\n",
        "    self.device = device\r\n",
        "\r\n",
        "  def forward(self, src, trg, teacher_forcing_ratio = 0.5):\r\n",
        "\r\n",
        "      # src = [src len, batch size]\r\n",
        "      # trg = [trg len, batch size]\r\n",
        "      # teacher_forcing_ratio is probability to use teacher forcing\r\n",
        "      #e.g. if teaching_forcing_ratio is 0.75 we use teacher forcing 75% of the time\r\n",
        "\r\n",
        "      batch_size = src.shape[1]\r\n",
        "      trg_len = trg.shape[0]\r\n",
        "      trg_vocab_size = self.decoder.output_dim\r\n",
        "\r\n",
        "      #tensor to store decoder outputs\r\n",
        "      outputs = torch.zeros(trg_len, batch_size, trg_vocab_size).to(self.device)\r\n",
        "\r\n",
        "      #encoder_outputs is all hidden states of the input sequence, back and forwards\r\n",
        "      # hidden is the final forward and backward hidden states, passed through a lines\r\n",
        "      encoder_outputs, hidden = self.encoder(src)\r\n",
        "\r\n",
        "      #first input to the decoder is the <sos> token\r\n",
        "      input = trg[0, :]\r\n",
        "\r\n",
        "      for t in range(1, trg_len):\r\n",
        "\r\n",
        "        #insert input token embedding, previous hidden state and all encoder hidden\r\n",
        "        #receive output tensor (predictions) and new hidden state\r\n",
        "        output, hidden = self.decoder(input, hidden, encoder_outputs)\r\n",
        "\r\n",
        "        #place predictions in a tensor holding predictions for each token \r\n",
        "        outputs[t] = output\r\n",
        "\r\n",
        "        # decide if we are going to use teacher forching or not\r\n",
        "        teacher_force = random.random() < teacher_forcing_ratio\r\n",
        "\r\n",
        "        #get the highest predicted token from our predictions\r\n",
        "        top1 = output.argmax(1)\r\n",
        "\r\n",
        "        #if teacher forcing, use actual next token as next input \r\n",
        "        # if not, use predicted token\r\n",
        "        input = trg[t] if teacher_force else top1\r\n",
        "\r\n",
        "      return outputs"
      ],
      "execution_count": 157,
      "outputs": []
    },
    {
      "cell_type": "code",
      "metadata": {
        "id": "Rt6ksCraOExx"
      },
      "source": [
        "INPUT_DIM = len(SRC.vocab)\r\n",
        "OUTPUT_DIM = len(TRG.vocab)\r\n",
        "ENC_EMB_DIM = 256\r\n",
        "DEC_EMB_DIM = 256\r\n",
        "ENC_HID_DIM = 512\r\n",
        "DEC_HID_DIM = 512\r\n",
        "ENC_DROPOUT = 0.5\r\n",
        "DEC_DROPOUT = 0.5\r\n",
        "\r\n",
        "attn = Attention(ENC_HID_DIM, DEC_HID_DIM)\r\n",
        "enc = Encoder(INPUT_DIM, ENC_EMB_DIM, ENC_HID_DIM, DEC_HID_DIM, ENC_DROPOUT)\r\n",
        "dec = Decoder(OUTPUT_DIM, DEC_EMB_DIM, ENC_HID_DIM, DEC_HID_DIM, DEC_DROPOUT, attn)\r\n",
        "\r\n",
        "model = Seq2Seq(enc, dec, device).to(device)"
      ],
      "execution_count": 158,
      "outputs": []
    },
    {
      "cell_type": "code",
      "metadata": {
        "colab": {
          "base_uri": "https://localhost:8080/"
        },
        "id": "CZR2nlr1O5II",
        "outputId": "c4e52b27-217c-4866-eb82-d77d571d03e2"
      },
      "source": [
        "def init_weights(m):\r\n",
        "  for name, param in m.named_parameters():\r\n",
        "    if 'weight' in name:\r\n",
        "      nn.init.normal_(param.data, mean=0, std=0.01)\r\n",
        "    else:\r\n",
        "      nn.init.constant_(param.data, 0)\r\n",
        "model.apply(init_weights)"
      ],
      "execution_count": 159,
      "outputs": [
        {
          "output_type": "execute_result",
          "data": {
            "text/plain": [
              "Seq2Seq(\n",
              "  (encoder): Encoder(\n",
              "    (embedding): Embedding(5893, 256)\n",
              "    (rnn): GRU(256, 512, bidirectional=True)\n",
              "    (fc): Linear(in_features=1024, out_features=512, bias=True)\n",
              "    (dropout): Dropout(p=0.5, inplace=False)\n",
              "  )\n",
              "  (decoder): Decoder(\n",
              "    (attention): Attention(\n",
              "      (attn): Linear(in_features=1536, out_features=512, bias=True)\n",
              "      (v): Linear(in_features=512, out_features=1, bias=False)\n",
              "    )\n",
              "    (embedding): Embedding(7855, 256)\n",
              "    (rnn): GRU(1280, 512)\n",
              "    (fc_out): Linear(in_features=1792, out_features=7855, bias=True)\n",
              "    (dropout): Dropout(p=0.5, inplace=False)\n",
              "  )\n",
              ")"
            ]
          },
          "metadata": {
            "tags": []
          },
          "execution_count": 159
        }
      ]
    },
    {
      "cell_type": "code",
      "metadata": {
        "colab": {
          "base_uri": "https://localhost:8080/"
        },
        "id": "3ciJCnlTPfFJ",
        "outputId": "ab07f204-64f3-4b4c-846b-ab70736301ca"
      },
      "source": [
        "def count_parameters(model):\r\n",
        "  return sum(p.numel() for p in model.parameters() if p.requires_grad)\r\n",
        "\r\n",
        "print(f'The model has {count_parameters(model):,} trainable parameters')"
      ],
      "execution_count": 160,
      "outputs": [
        {
          "output_type": "stream",
          "text": [
            "The model has 24,036,783 trainable parameters\n"
          ],
          "name": "stdout"
        }
      ]
    },
    {
      "cell_type": "code",
      "metadata": {
        "id": "g2IhDEr4Rb_-"
      },
      "source": [
        "optimizer = optim.Adam(model.parameters())"
      ],
      "execution_count": 161,
      "outputs": []
    },
    {
      "cell_type": "code",
      "metadata": {
        "id": "ND9vqPZMRi4Z"
      },
      "source": [
        "TRG_PAD_IDX = TRG.vocab.stoi[TRG.pad_token]\r\n",
        "\r\n",
        "criterion = nn.CrossEntropyLoss(ignore_index = TRG_PAD_IDX)"
      ],
      "execution_count": 162,
      "outputs": []
    },
    {
      "cell_type": "code",
      "metadata": {
        "id": "tL9KwS4hRxAJ"
      },
      "source": [
        "def train(model, iterator, optimizer, criterion, clip):\r\n",
        "    \r\n",
        "    model.train()\r\n",
        "    \r\n",
        "    epoch_loss = 0\r\n",
        "    \r\n",
        "    for i, batch in enumerate(iterator):\r\n",
        "        \r\n",
        "        src = batch.src\r\n",
        "        trg = batch.trg\r\n",
        "        \r\n",
        "        # print(src.size())\r\n",
        "        # print(trg.size())\r\n",
        "        optimizer.zero_grad()\r\n",
        "        \r\n",
        "        output = model(src, trg)\r\n",
        "        \r\n",
        "        #trg = [trg len, batch size]\r\n",
        "        #output = [trg len, batch size, output dim]\r\n",
        "        \r\n",
        "        output_dim = output.shape[-1]\r\n",
        "        \r\n",
        "        output = output[1:].view(-1, output_dim)\r\n",
        "        trg = trg[1:].view(-1)\r\n",
        "        \r\n",
        "        #trg = [(trg len - 1) * batch size]\r\n",
        "        #output = [(trg len - 1) * batch size, output dim]\r\n",
        "        \r\n",
        "        loss = criterion(output, trg)\r\n",
        "        \r\n",
        "        loss.backward()\r\n",
        "        \r\n",
        "        torch.nn.utils.clip_grad_norm_(model.parameters(), clip)\r\n",
        "        \r\n",
        "        optimizer.step()\r\n",
        "        \r\n",
        "        epoch_loss += loss.item()\r\n",
        "        \r\n",
        "    return epoch_loss / len(iterator)"
      ],
      "execution_count": 163,
      "outputs": []
    },
    {
      "cell_type": "code",
      "metadata": {
        "id": "Kh0flIkRSPuA"
      },
      "source": [
        "def evaluate(model, iterator, criterion):\r\n",
        "    \r\n",
        "    model.eval()\r\n",
        "    \r\n",
        "    epoch_loss = 0\r\n",
        "    \r\n",
        "    with torch.no_grad():\r\n",
        "    \r\n",
        "        for i, batch in enumerate(iterator):\r\n",
        "\r\n",
        "            src = batch.src\r\n",
        "            trg = batch.trg\r\n",
        "\r\n",
        "            output = model(src, trg, 0) #turn off teacher forcing\r\n",
        "\r\n",
        "            #trg = [trg len, batch size]\r\n",
        "            #output = [trg len, batch size, output dim]\r\n",
        "\r\n",
        "            output_dim = output.shape[-1]\r\n",
        "            \r\n",
        "            output = output[1:].view(-1, output_dim)\r\n",
        "            trg = trg[1:].view(-1)\r\n",
        "\r\n",
        "            #trg = [(trg len - 1) * batch size]\r\n",
        "            #output = [(trg len - 1) * batch size, output dim]\r\n",
        "\r\n",
        "            loss = criterion(output, trg)\r\n",
        "\r\n",
        "            epoch_loss += loss.item()\r\n",
        "        \r\n",
        "    return epoch_loss / len(iterator) "
      ],
      "execution_count": 164,
      "outputs": []
    },
    {
      "cell_type": "code",
      "metadata": {
        "id": "amWmAYqTScPe"
      },
      "source": [
        "def epoch_time(start_time, end_time):\r\n",
        "    elapsed_time = end_time - start_time\r\n",
        "    elapsed_mins = int(elapsed_time / 60)\r\n",
        "    elapsed_secs = int(elapsed_time - (elapsed_mins * 60))\r\n",
        "    return elapsed_mins, elapsed_secs"
      ],
      "execution_count": 165,
      "outputs": []
    },
    {
      "cell_type": "code",
      "metadata": {
        "colab": {
          "base_uri": "https://localhost:8080/"
        },
        "id": "NYajCDtXScoG",
        "outputId": "cab195f9-1b9b-4631-d807-48a77fd1ce79"
      },
      "source": [
        "N_EPOCHS = 20\r\n",
        "CLIP = 1\r\n",
        "\r\n",
        "best_valid_loss = float('inf')\r\n",
        "\r\n",
        "for epoch in range(N_EPOCHS):\r\n",
        "    \r\n",
        "    start_time = time.time()\r\n",
        "    \r\n",
        "    train_loss = train(model, train_iterator, optimizer, criterion, CLIP)\r\n",
        "    valid_loss = evaluate(model, valid_iterator, criterion)\r\n",
        "    \r\n",
        "    end_time = time.time()\r\n",
        "    \r\n",
        "    epoch_mins, epoch_secs = epoch_time(start_time, end_time)\r\n",
        "    \r\n",
        "    if valid_loss < best_valid_loss:\r\n",
        "        best_valid_loss = valid_loss\r\n",
        "        torch.save(model.state_dict(), 'tut2-model.pt')\r\n",
        "    \r\n",
        "    print(f'Epoch: {epoch+1:02} | Time: {epoch_mins}m {epoch_secs}s')\r\n",
        "    print(f'\\tTrain Loss: {train_loss:.3f} | Train PPL: {math.exp(train_loss):7.3f}')\r\n",
        "    print(f'\\t Val. Loss: {valid_loss:.3f} |  Val. PPL: {math.exp(valid_loss):7.3f}')"
      ],
      "execution_count": 166,
      "outputs": [
        {
          "output_type": "stream",
          "text": [
            "Epoch: 01 | Time: 1m 35s\n",
            "\tTrain Loss: 5.042 | Train PPL: 154.708\n",
            "\t Val. Loss: 5.146 |  Val. PPL: 171.721\n",
            "Epoch: 02 | Time: 1m 38s\n",
            "\tTrain Loss: 4.104 | Train PPL:  60.612\n",
            "\t Val. Loss: 4.542 |  Val. PPL:  93.908\n",
            "Epoch: 03 | Time: 1m 39s\n",
            "\tTrain Loss: 3.473 | Train PPL:  32.244\n",
            "\t Val. Loss: 3.733 |  Val. PPL:  41.811\n",
            "Epoch: 04 | Time: 1m 39s\n",
            "\tTrain Loss: 2.907 | Train PPL:  18.294\n",
            "\t Val. Loss: 3.302 |  Val. PPL:  27.179\n",
            "Epoch: 05 | Time: 1m 39s\n",
            "\tTrain Loss: 2.460 | Train PPL:  11.704\n",
            "\t Val. Loss: 3.157 |  Val. PPL:  23.511\n",
            "Epoch: 06 | Time: 1m 39s\n",
            "\tTrain Loss: 2.122 | Train PPL:   8.348\n",
            "\t Val. Loss: 3.074 |  Val. PPL:  21.637\n",
            "Epoch: 07 | Time: 1m 39s\n",
            "\tTrain Loss: 1.849 | Train PPL:   6.352\n",
            "\t Val. Loss: 3.063 |  Val. PPL:  21.392\n",
            "Epoch: 08 | Time: 1m 39s\n",
            "\tTrain Loss: 1.613 | Train PPL:   5.018\n",
            "\t Val. Loss: 3.136 |  Val. PPL:  23.012\n",
            "Epoch: 09 | Time: 1m 39s\n",
            "\tTrain Loss: 1.467 | Train PPL:   4.338\n",
            "\t Val. Loss: 3.205 |  Val. PPL:  24.652\n",
            "Epoch: 10 | Time: 1m 39s\n",
            "\tTrain Loss: 1.342 | Train PPL:   3.827\n",
            "\t Val. Loss: 3.226 |  Val. PPL:  25.169\n",
            "Epoch: 11 | Time: 1m 39s\n",
            "\tTrain Loss: 1.227 | Train PPL:   3.410\n",
            "\t Val. Loss: 3.277 |  Val. PPL:  26.507\n",
            "Epoch: 12 | Time: 1m 39s\n",
            "\tTrain Loss: 1.127 | Train PPL:   3.087\n",
            "\t Val. Loss: 3.314 |  Val. PPL:  27.491\n",
            "Epoch: 13 | Time: 1m 39s\n",
            "\tTrain Loss: 1.017 | Train PPL:   2.764\n",
            "\t Val. Loss: 3.408 |  Val. PPL:  30.202\n",
            "Epoch: 14 | Time: 1m 39s\n",
            "\tTrain Loss: 0.937 | Train PPL:   2.552\n",
            "\t Val. Loss: 3.501 |  Val. PPL:  33.159\n",
            "Epoch: 15 | Time: 1m 40s\n",
            "\tTrain Loss: 0.860 | Train PPL:   2.364\n",
            "\t Val. Loss: 3.488 |  Val. PPL:  32.716\n",
            "Epoch: 16 | Time: 1m 39s\n",
            "\tTrain Loss: 0.792 | Train PPL:   2.208\n",
            "\t Val. Loss: 3.606 |  Val. PPL:  36.831\n",
            "Epoch: 17 | Time: 1m 39s\n",
            "\tTrain Loss: 0.743 | Train PPL:   2.102\n",
            "\t Val. Loss: 3.658 |  Val. PPL:  38.790\n",
            "Epoch: 18 | Time: 1m 39s\n",
            "\tTrain Loss: 0.688 | Train PPL:   1.990\n",
            "\t Val. Loss: 3.819 |  Val. PPL:  45.551\n",
            "Epoch: 19 | Time: 1m 40s\n",
            "\tTrain Loss: 0.630 | Train PPL:   1.877\n",
            "\t Val. Loss: 3.808 |  Val. PPL:  45.044\n",
            "Epoch: 20 | Time: 1m 40s\n",
            "\tTrain Loss: 0.594 | Train PPL:   1.811\n",
            "\t Val. Loss: 3.864 |  Val. PPL:  47.660\n"
          ],
          "name": "stdout"
        }
      ]
    },
    {
      "cell_type": "code",
      "metadata": {
        "colab": {
          "base_uri": "https://localhost:8080/"
        },
        "id": "_boY0SqCsYfc",
        "outputId": "d6c131d3-9f43-4469-e354-93e4af7b446f"
      },
      "source": [
        "src = vars(train_data.examples[14])['src']\r\n",
        "trg = vars(train_data.examples[14])['trg']\r\n",
        "\r\n",
        "print(f'src = {src}')\r\n",
        "print(f'trg = {trg}')"
      ],
      "execution_count": 170,
      "outputs": [
        {
          "output_type": "stream",
          "text": [
            "src = ['several', 'women', 'wait', 'outside', 'in', 'a', 'city', '.']\n",
            "trg = ['mehrere', 'frauen', 'warten', 'in', 'einer', 'stadt', 'im', 'freien', '.']\n"
          ],
          "name": "stdout"
        }
      ]
    },
    {
      "cell_type": "code",
      "metadata": {
        "id": "VB2_ZHpVMK2V"
      },
      "source": [
        ""
      ],
      "execution_count": null,
      "outputs": []
    }
  ]
}